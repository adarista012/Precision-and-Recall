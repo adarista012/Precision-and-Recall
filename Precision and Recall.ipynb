{
 "cells": [
  {
   "cell_type": "markdown",
   "id": "13c2e59a",
   "metadata": {},
   "source": [
    "# Precision and Recall"
   ]
  },
  {
   "cell_type": "markdown",
   "id": "56ad0de6",
   "metadata": {},
   "source": [
    "### Precision\n",
    "\n",
    "Precision is the percentage of the model's positive predictions that are correct.\n",
    "\n",
    "We defined it as follows:\n",
    "\n",
    "$precision = \\frac{nPositivesPredictedCorrectly}{nPositivePredictions} = \\frac{TP}{TP + FP}$\n",
    "\n",
    "Precision is a mesure of how precise the model is with its positive predictions."
   ]
  },
  {
   "cell_type": "markdown",
   "id": "a55800fc",
   "metadata": {},
   "source": [
    "### Recall\n",
    "\n",
    "Recall is the percentage of positive cases that the model predicts correctly.\n",
    "\n",
    "$recall = \\frac{nPositivesPredictedCorrectly}{nPositiveCases} = \\frac{TP}{TP+FN}$\n",
    "\n",
    "Recall is a mesure of how many of the positive cases the model can recall."
   ]
  },
  {
   "cell_type": "markdown",
   "id": "0a0d9f10",
   "metadata": {},
   "source": [
    "### Precision & Recall Trade-off\n",
    "\n",
    "We often will be in a situation of choosing between increasing the recall (while lowering the precision) or increasing the precision (and lowering the recall). It will depend on the situation wich we will want to maximize. "
   ]
  },
  {
   "cell_type": "markdown",
   "id": "ceee8ce4",
   "metadata": {},
   "source": [
    "### F1 Score\n",
    "\n",
    "The F1 score is an average of precision and recall so that we have a single score for our model.\n",
    "\n",
    "$F1 = 2 * \\frac{precision*recall}{precision+recall}$\n",
    "\n",
    "The F1 score is the harmonic mean"
   ]
  },
  {
   "cell_type": "code",
   "execution_count": null,
   "id": "b4226f93",
   "metadata": {},
   "outputs": [],
   "source": []
  }
 ],
 "metadata": {
  "kernelspec": {
   "display_name": "Python 3 (ipykernel)",
   "language": "python",
   "name": "python3"
  },
  "language_info": {
   "codemirror_mode": {
    "name": "ipython",
    "version": 3
   },
   "file_extension": ".py",
   "mimetype": "text/x-python",
   "name": "python",
   "nbconvert_exporter": "python",
   "pygments_lexer": "ipython3",
   "version": "3.11.5"
  }
 },
 "nbformat": 4,
 "nbformat_minor": 5
}
